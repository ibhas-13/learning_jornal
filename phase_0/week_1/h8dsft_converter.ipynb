{
 "cells": [
  {
   "cell_type": "markdown",
   "metadata": {},
   "source": [
    "Assignment InstructionsHacktiv8\n",
    "▪ Buatlah sebuah function yang dapat mengkonversi suhu dari kelvin ke celcius, dan celcius ke kelvin.\n",
    "▪ Buatlah sebuah function yang dapat mengkonversi suhu ke fahrenheit. Tambahkan parameter untuk memastikan bahwa argumen yang dimasukan adalah celcius atau kelvin. Panggil function yang pertama jika diperlukan.\n",
    "▪Buatlah sebuah function yang dapat mengkonversi suhu dari fahrenheit. Berikan argumen untuk memastikan bahwa outputnya dalah celcius atau kelvin.\n",
    "▪Berikan dokumentasi pada setiap baris kode yang kalian tulis.\n"
   ]
  },
  {
   "cell_type": "code",
   "execution_count": 41,
   "metadata": {},
   "outputs": [
    {
     "name": "stdout",
     "output_type": "stream",
     "text": [
      "Temperatur in 1 (C) = 274.15 (K)\n",
      "Temperatur in 1 (K) = -272.15 (C)\n"
     ]
    }
   ],
   "source": [
    "# Function yang dapat mengkonversi celcius ke kelvin, dan kelvin ke celcius\n",
    "\n",
    "def celcius_to_kelvin(c):       # Menerapkan function pertama untuk konversi celcius to kelvin dan menetapkan argumen c sebagai independen variable / variabel input\n",
    "    cels_to_kelv = c +273.15    # Menerapkan rumus dasar perhitungan konversi celcius to kelvin\n",
    "    print(\"Temperatur in\", c, \"(C) =\" , cels_to_kelv, \"(K)\")    # Mencetak hasil perhitungan konversi celcius ke kelvin. sebenarnya pada baris ini bisa saja dilakukan bersamaan dengan baris di atas, tetapi saya buat terpisah agar terlihat rapi\n",
    "def kelvin_to_celcius(k):       # Menerapkan function kedua untuk konversi kelvin to celcius dan menetapkan argumen k sebagai independen variable / variabel input\n",
    "    kelv_to_cels = k -273.15    # Menerapkan rumus dasar perhitungan konversi kelvin to celcius.\n",
    "    print(\"Temperatur in\", k, \"(K) =\", kelv_to_cels, \"(C)\")     # Mencetak hasil perhitungan konversi kelvin ke celcius.\n",
    "    \n",
    "celcius_to_kelvin(1)            # Memanggil fungsi pertama dan melakukan inputasi variable c. dalam hal ini menggunakan variable 1\n",
    "kelvin_to_celcius(1)            # Memanggil fungsi kedua dan melakukan inputasi variable k. dalam hal ini menggunakan variable 1"
   ]
  },
  {
   "cell_type": "code",
   "execution_count": 48,
   "metadata": {},
   "outputs": [
    {
     "name": "stdout",
     "output_type": "stream",
     "text": [
      "Temperatur in  10  (F) =  -12 (C)\n",
      "Temperatur in  10  (F) =  261 (K)\n"
     ]
    }
   ],
   "source": [
    "# Function yang dapat mengkonversi suhu fahrenheit ke celcius dan kelvin\n",
    "\n",
    "def f_convert(ftemp):            # Menetapkan function dan input untuk mengkonversikan dari suhu fahrenheit ke celcius dan kelvin\n",
    "    ctemp = (ftemp - 32) * (5/9) # Menerapkan rumus perhitungan konversi fahrenheit ke celcius\n",
    "    ktemp = ctemp + 273.15       # Menerapkan rumus perhitungan konversi fahrenheit ke kelvin\n",
    "    print(\"Temperatur in \", ftemp, \" (F) = \", round(ctemp), \"(C)\") # Mencetak hasil perhitungan konversi fahrenheit ke celcius. dibulatkan dengan round agar desimal tidak terlalu banyak\n",
    "    print(\"Temperatur in \", ftemp, \" (F) = \", round(ktemp), \"(K)\") # Mencetak hasil perhitungan konversi fahrenheit ke kelvin. dibulatkan dengan round agar desimal tidak terlalu banyak\n",
    "\n",
    "f_convert(10)                   # Memanggil fungsi konversi dan inputasi dari suhu fahrenheit sebagai dasar variable independen\n",
    "\n"
   ]
  },
  {
   "cell_type": "code",
   "execution_count": 43,
   "metadata": {},
   "outputs": [
    {
     "name": "stdout",
     "output_type": "stream",
     "text": [
      "Temperatur in  0 (C) = 32.0 (F)\n",
      "Temperatur in  0 (K) = -459.66999999999996 (F)\n"
     ]
    }
   ],
   "source": [
    "# Function yang dapat mengkonversi suhu celcius dan kelvin ke fahrenheit\n",
    "\n",
    "def convert(i):\n",
    "    ctemp = (i * 9/5) +32\n",
    "    ktemp = (i -273.15) * 9/5 + 32\n",
    "    #return celcius, kelvin\n",
    "    print(\"Temperatur in \", i, \"(C) =\", ctemp, \"(F)\")\n",
    "    print(\"Temperatur in \", i, \"(K) =\", ktemp, \"(F)\")\n",
    "convert(0)\n"
   ]
  }
 ],
 "metadata": {
  "interpreter": {
   "hash": "aee8b7b246df8f9039afb4144a1f6fd8d2ca17a180786b69acc140d282b71a49"
  },
  "kernelspec": {
   "display_name": "Python 3.9.10 64-bit",
   "language": "python",
   "name": "python3"
  },
  "language_info": {
   "codemirror_mode": {
    "name": "ipython",
    "version": 3
   },
   "file_extension": ".py",
   "mimetype": "text/x-python",
   "name": "python",
   "nbconvert_exporter": "python",
   "pygments_lexer": "ipython3",
   "version": "3.9.10"
  },
  "orig_nbformat": 4
 },
 "nbformat": 4,
 "nbformat_minor": 2
}
