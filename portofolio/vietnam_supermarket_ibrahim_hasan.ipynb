{
 "cells": [
  {
   "cell_type": "markdown",
   "metadata": {},
   "source": [
    "# Milestone 1 Phase 0"
   ]
  },
  {
   "cell_type": "markdown",
   "metadata": {},
   "source": [
    "# i. Perkenalan\n",
    "\n",
    "Nama    : Ibrahim Hasan\n",
    "\n",
    "Batch   : FTDS 009\n",
    "\n",
    "Heroku app URL : https://ibrahim-m1-p0.herokuapp.com/\n",
    "\n",
    "# Gambaran dataset & Objective\n",
    "\n",
    "Dataset yang digunakan berasal dari kaggle.com yang berisi data penjualan dari suatu supermarket di Negara Myanmar yang mencakup 3 kota diantaranya Yangon, Naypyitaw, dan Mandalay dari tanggal 1 Januari 2019 sampai dengan 30 Maret 2019.\n",
    "\n",
    "Objective yang ingin dicapai adalah mengetahui hasil uji hipotesa tentang perbandingan dari rating yang diberikan oleh pelanggan dari setiap kota, apakah diantara ke-3 kota tersebut terdapat perbedaan signifikan atau tidak."
   ]
  },
  {
   "cell_type": "markdown",
   "metadata": {},
   "source": [
    "# ii. Import Pustaka"
   ]
  },
  {
   "cell_type": "code",
   "execution_count": 102,
   "metadata": {},
   "outputs": [],
   "source": [
    "import numpy as np\n",
    "import pandas as pd\n",
    "import scipy as sy\n",
    "from scipy import stats\n",
    "import seaborn as sns\n",
    "import matplotlib.pyplot as plt\n",
    "%matplotlib inline\n",
    "import plotly.express as px\n",
    "import plotly.figure_factory as ff"
   ]
  },
  {
   "cell_type": "markdown",
   "metadata": {},
   "source": [
    "# iii. Data Loading\n",
    "\n",
    "Mengunggah data yang telah diunduh pada local folder dan dilanjutkan dengan eksplorasi data sederhana."
   ]
  },
  {
   "cell_type": "code",
   "execution_count": 2,
   "metadata": {},
   "outputs": [
    {
     "data": {
      "text/html": [
       "<div>\n",
       "<style scoped>\n",
       "    .dataframe tbody tr th:only-of-type {\n",
       "        vertical-align: middle;\n",
       "    }\n",
       "\n",
       "    .dataframe tbody tr th {\n",
       "        vertical-align: top;\n",
       "    }\n",
       "\n",
       "    .dataframe thead th {\n",
       "        text-align: right;\n",
       "    }\n",
       "</style>\n",
       "<table border=\"1\" class=\"dataframe\">\n",
       "  <thead>\n",
       "    <tr style=\"text-align: right;\">\n",
       "      <th></th>\n",
       "      <th>Invoice ID</th>\n",
       "      <th>Branch</th>\n",
       "      <th>City</th>\n",
       "      <th>Customer type</th>\n",
       "      <th>Gender</th>\n",
       "      <th>Product line</th>\n",
       "      <th>Unit price</th>\n",
       "      <th>Quantity</th>\n",
       "      <th>Tax 5%</th>\n",
       "      <th>Total</th>\n",
       "      <th>Date</th>\n",
       "      <th>Time</th>\n",
       "      <th>Payment</th>\n",
       "      <th>cogs</th>\n",
       "      <th>gross margin percentage</th>\n",
       "      <th>gross income</th>\n",
       "      <th>Rating</th>\n",
       "    </tr>\n",
       "  </thead>\n",
       "  <tbody>\n",
       "    <tr>\n",
       "      <th>0</th>\n",
       "      <td>750-67-8428</td>\n",
       "      <td>A</td>\n",
       "      <td>Yangon</td>\n",
       "      <td>Member</td>\n",
       "      <td>Female</td>\n",
       "      <td>Health and beauty</td>\n",
       "      <td>74.69</td>\n",
       "      <td>7</td>\n",
       "      <td>26.1415</td>\n",
       "      <td>548.9715</td>\n",
       "      <td>1/5/2019</td>\n",
       "      <td>13:08</td>\n",
       "      <td>Ewallet</td>\n",
       "      <td>522.83</td>\n",
       "      <td>4.761905</td>\n",
       "      <td>26.1415</td>\n",
       "      <td>9.1</td>\n",
       "    </tr>\n",
       "    <tr>\n",
       "      <th>1</th>\n",
       "      <td>226-31-3081</td>\n",
       "      <td>C</td>\n",
       "      <td>Naypyitaw</td>\n",
       "      <td>Normal</td>\n",
       "      <td>Female</td>\n",
       "      <td>Electronic accessories</td>\n",
       "      <td>15.28</td>\n",
       "      <td>5</td>\n",
       "      <td>3.8200</td>\n",
       "      <td>80.2200</td>\n",
       "      <td>3/8/2019</td>\n",
       "      <td>10:29</td>\n",
       "      <td>Cash</td>\n",
       "      <td>76.40</td>\n",
       "      <td>4.761905</td>\n",
       "      <td>3.8200</td>\n",
       "      <td>9.6</td>\n",
       "    </tr>\n",
       "    <tr>\n",
       "      <th>2</th>\n",
       "      <td>631-41-3108</td>\n",
       "      <td>A</td>\n",
       "      <td>Yangon</td>\n",
       "      <td>Normal</td>\n",
       "      <td>Male</td>\n",
       "      <td>Home and lifestyle</td>\n",
       "      <td>46.33</td>\n",
       "      <td>7</td>\n",
       "      <td>16.2155</td>\n",
       "      <td>340.5255</td>\n",
       "      <td>3/3/2019</td>\n",
       "      <td>13:23</td>\n",
       "      <td>Credit card</td>\n",
       "      <td>324.31</td>\n",
       "      <td>4.761905</td>\n",
       "      <td>16.2155</td>\n",
       "      <td>7.4</td>\n",
       "    </tr>\n",
       "    <tr>\n",
       "      <th>3</th>\n",
       "      <td>123-19-1176</td>\n",
       "      <td>A</td>\n",
       "      <td>Yangon</td>\n",
       "      <td>Member</td>\n",
       "      <td>Male</td>\n",
       "      <td>Health and beauty</td>\n",
       "      <td>58.22</td>\n",
       "      <td>8</td>\n",
       "      <td>23.2880</td>\n",
       "      <td>489.0480</td>\n",
       "      <td>1/27/2019</td>\n",
       "      <td>20:33</td>\n",
       "      <td>Ewallet</td>\n",
       "      <td>465.76</td>\n",
       "      <td>4.761905</td>\n",
       "      <td>23.2880</td>\n",
       "      <td>8.4</td>\n",
       "    </tr>\n",
       "    <tr>\n",
       "      <th>4</th>\n",
       "      <td>373-73-7910</td>\n",
       "      <td>A</td>\n",
       "      <td>Yangon</td>\n",
       "      <td>Normal</td>\n",
       "      <td>Male</td>\n",
       "      <td>Sports and travel</td>\n",
       "      <td>86.31</td>\n",
       "      <td>7</td>\n",
       "      <td>30.2085</td>\n",
       "      <td>634.3785</td>\n",
       "      <td>2/8/2019</td>\n",
       "      <td>10:37</td>\n",
       "      <td>Ewallet</td>\n",
       "      <td>604.17</td>\n",
       "      <td>4.761905</td>\n",
       "      <td>30.2085</td>\n",
       "      <td>5.3</td>\n",
       "    </tr>\n",
       "  </tbody>\n",
       "</table>\n",
       "</div>"
      ],
      "text/plain": [
       "    Invoice ID Branch       City Customer type  Gender  \\\n",
       "0  750-67-8428      A     Yangon        Member  Female   \n",
       "1  226-31-3081      C  Naypyitaw        Normal  Female   \n",
       "2  631-41-3108      A     Yangon        Normal    Male   \n",
       "3  123-19-1176      A     Yangon        Member    Male   \n",
       "4  373-73-7910      A     Yangon        Normal    Male   \n",
       "\n",
       "             Product line  Unit price  Quantity   Tax 5%     Total       Date  \\\n",
       "0       Health and beauty       74.69         7  26.1415  548.9715   1/5/2019   \n",
       "1  Electronic accessories       15.28         5   3.8200   80.2200   3/8/2019   \n",
       "2      Home and lifestyle       46.33         7  16.2155  340.5255   3/3/2019   \n",
       "3       Health and beauty       58.22         8  23.2880  489.0480  1/27/2019   \n",
       "4       Sports and travel       86.31         7  30.2085  634.3785   2/8/2019   \n",
       "\n",
       "    Time      Payment    cogs  gross margin percentage  gross income  Rating  \n",
       "0  13:08      Ewallet  522.83                 4.761905       26.1415     9.1  \n",
       "1  10:29         Cash   76.40                 4.761905        3.8200     9.6  \n",
       "2  13:23  Credit card  324.31                 4.761905       16.2155     7.4  \n",
       "3  20:33      Ewallet  465.76                 4.761905       23.2880     8.4  \n",
       "4  10:37      Ewallet  604.17                 4.761905       30.2085     5.3  "
      ]
     },
     "execution_count": 2,
     "metadata": {},
     "output_type": "execute_result"
    }
   ],
   "source": [
    "df = pd.read_csv('supermarket_sales - Sheet1.csv')\n",
    "df.head()"
   ]
  },
  {
   "cell_type": "markdown",
   "metadata": {},
   "source": [
    "Observasi missing value dengan df.info() yang menunjukkan tidak ada missing value pada seluruh kolom."
   ]
  },
  {
   "cell_type": "code",
   "execution_count": 3,
   "metadata": {},
   "outputs": [
    {
     "name": "stdout",
     "output_type": "stream",
     "text": [
      "<class 'pandas.core.frame.DataFrame'>\n",
      "RangeIndex: 1000 entries, 0 to 999\n",
      "Data columns (total 17 columns):\n",
      " #   Column                   Non-Null Count  Dtype  \n",
      "---  ------                   --------------  -----  \n",
      " 0   Invoice ID               1000 non-null   object \n",
      " 1   Branch                   1000 non-null   object \n",
      " 2   City                     1000 non-null   object \n",
      " 3   Customer type            1000 non-null   object \n",
      " 4   Gender                   1000 non-null   object \n",
      " 5   Product line             1000 non-null   object \n",
      " 6   Unit price               1000 non-null   float64\n",
      " 7   Quantity                 1000 non-null   int64  \n",
      " 8   Tax 5%                   1000 non-null   float64\n",
      " 9   Total                    1000 non-null   float64\n",
      " 10  Date                     1000 non-null   object \n",
      " 11  Time                     1000 non-null   object \n",
      " 12  Payment                  1000 non-null   object \n",
      " 13  cogs                     1000 non-null   float64\n",
      " 14  gross margin percentage  1000 non-null   float64\n",
      " 15  gross income             1000 non-null   float64\n",
      " 16  Rating                   1000 non-null   float64\n",
      "dtypes: float64(7), int64(1), object(9)\n",
      "memory usage: 132.9+ KB\n"
     ]
    }
   ],
   "source": [
    "df.info()"
   ]
  },
  {
   "cell_type": "markdown",
   "metadata": {},
   "source": [
    "# iv. Eksplorasi Data\n",
    "\n",
    "Beberapa hal yang dilakukan pada eksplorasi data adalah sebagai berikut :\n",
    "\n",
    "- Melakukan grouping untuk melihat mean dari masing-masing rating pada setiap city.\n",
    "- Slicing berdasarkan City yang ingin dilakukan pengujian hipotesis."
   ]
  },
  {
   "cell_type": "markdown",
   "metadata": {},
   "source": [
    "Grouping berdasarkan City untuk melihat masing-masing nilai mean, didapatkan nilai mean rating tertinggi adalah kota Naypyitaw, dan rating terendah adalah Mandalay."
   ]
  },
  {
   "cell_type": "code",
   "execution_count": 78,
   "metadata": {},
   "outputs": [
    {
     "data": {
      "text/plain": [
       "City\n",
       "Yangon       7.027059\n",
       "Naypyitaw    7.072866\n",
       "Mandalay     6.818072\n",
       "Name: Rating, dtype: float64"
      ]
     },
     "execution_count": 78,
     "metadata": {},
     "output_type": "execute_result"
    }
   ],
   "source": [
    "df.groupby(\"City\", sort=False)[\"Rating\"].mean()"
   ]
  },
  {
   "cell_type": "code",
   "execution_count": 5,
   "metadata": {},
   "outputs": [
    {
     "data": {
      "text/html": [
       "<div>\n",
       "<style scoped>\n",
       "    .dataframe tbody tr th:only-of-type {\n",
       "        vertical-align: middle;\n",
       "    }\n",
       "\n",
       "    .dataframe tbody tr th {\n",
       "        vertical-align: top;\n",
       "    }\n",
       "\n",
       "    .dataframe thead th {\n",
       "        text-align: right;\n",
       "    }\n",
       "</style>\n",
       "<table border=\"1\" class=\"dataframe\">\n",
       "  <thead>\n",
       "    <tr style=\"text-align: right;\">\n",
       "      <th></th>\n",
       "      <th>Unit price</th>\n",
       "      <th>Quantity</th>\n",
       "      <th>Tax 5%</th>\n",
       "      <th>Total</th>\n",
       "      <th>cogs</th>\n",
       "      <th>gross margin percentage</th>\n",
       "      <th>gross income</th>\n",
       "      <th>Rating</th>\n",
       "    </tr>\n",
       "  </thead>\n",
       "  <tbody>\n",
       "    <tr>\n",
       "      <th>count</th>\n",
       "      <td>340.000000</td>\n",
       "      <td>340.000000</td>\n",
       "      <td>340.000000</td>\n",
       "      <td>340.000000</td>\n",
       "      <td>340.000000</td>\n",
       "      <td>3.400000e+02</td>\n",
       "      <td>340.000000</td>\n",
       "      <td>340.000000</td>\n",
       "    </tr>\n",
       "    <tr>\n",
       "      <th>mean</th>\n",
       "      <td>54.780853</td>\n",
       "      <td>5.467647</td>\n",
       "      <td>14.874001</td>\n",
       "      <td>312.354031</td>\n",
       "      <td>297.480029</td>\n",
       "      <td>4.761905e+00</td>\n",
       "      <td>14.874001</td>\n",
       "      <td>7.027059</td>\n",
       "    </tr>\n",
       "    <tr>\n",
       "      <th>std</th>\n",
       "      <td>26.132127</td>\n",
       "      <td>2.859876</td>\n",
       "      <td>11.030477</td>\n",
       "      <td>231.640025</td>\n",
       "      <td>220.609547</td>\n",
       "      <td>1.778975e-14</td>\n",
       "      <td>11.030477</td>\n",
       "      <td>1.731345</td>\n",
       "    </tr>\n",
       "    <tr>\n",
       "      <th>min</th>\n",
       "      <td>10.080000</td>\n",
       "      <td>1.000000</td>\n",
       "      <td>0.604500</td>\n",
       "      <td>12.694500</td>\n",
       "      <td>12.090000</td>\n",
       "      <td>4.761905e+00</td>\n",
       "      <td>0.604500</td>\n",
       "      <td>4.000000</td>\n",
       "    </tr>\n",
       "    <tr>\n",
       "      <th>25%</th>\n",
       "      <td>32.250000</td>\n",
       "      <td>3.000000</td>\n",
       "      <td>6.547125</td>\n",
       "      <td>137.489625</td>\n",
       "      <td>130.942500</td>\n",
       "      <td>4.761905e+00</td>\n",
       "      <td>6.547125</td>\n",
       "      <td>5.600000</td>\n",
       "    </tr>\n",
       "    <tr>\n",
       "      <th>50%</th>\n",
       "      <td>53.235000</td>\n",
       "      <td>5.000000</td>\n",
       "      <td>11.468000</td>\n",
       "      <td>240.828000</td>\n",
       "      <td>229.360000</td>\n",
       "      <td>4.761905e+00</td>\n",
       "      <td>11.468000</td>\n",
       "      <td>7.100000</td>\n",
       "    </tr>\n",
       "    <tr>\n",
       "      <th>75%</th>\n",
       "      <td>75.095000</td>\n",
       "      <td>8.000000</td>\n",
       "      <td>21.873375</td>\n",
       "      <td>459.340875</td>\n",
       "      <td>437.467500</td>\n",
       "      <td>4.761905e+00</td>\n",
       "      <td>21.873375</td>\n",
       "      <td>8.500000</td>\n",
       "    </tr>\n",
       "    <tr>\n",
       "      <th>max</th>\n",
       "      <td>99.830000</td>\n",
       "      <td>10.000000</td>\n",
       "      <td>49.490000</td>\n",
       "      <td>1039.290000</td>\n",
       "      <td>989.800000</td>\n",
       "      <td>4.761905e+00</td>\n",
       "      <td>49.490000</td>\n",
       "      <td>10.000000</td>\n",
       "    </tr>\n",
       "  </tbody>\n",
       "</table>\n",
       "</div>"
      ],
      "text/plain": [
       "       Unit price    Quantity      Tax 5%        Total        cogs  \\\n",
       "count  340.000000  340.000000  340.000000   340.000000  340.000000   \n",
       "mean    54.780853    5.467647   14.874001   312.354031  297.480029   \n",
       "std     26.132127    2.859876   11.030477   231.640025  220.609547   \n",
       "min     10.080000    1.000000    0.604500    12.694500   12.090000   \n",
       "25%     32.250000    3.000000    6.547125   137.489625  130.942500   \n",
       "50%     53.235000    5.000000   11.468000   240.828000  229.360000   \n",
       "75%     75.095000    8.000000   21.873375   459.340875  437.467500   \n",
       "max     99.830000   10.000000   49.490000  1039.290000  989.800000   \n",
       "\n",
       "       gross margin percentage  gross income      Rating  \n",
       "count             3.400000e+02    340.000000  340.000000  \n",
       "mean              4.761905e+00     14.874001    7.027059  \n",
       "std               1.778975e-14     11.030477    1.731345  \n",
       "min               4.761905e+00      0.604500    4.000000  \n",
       "25%               4.761905e+00      6.547125    5.600000  \n",
       "50%               4.761905e+00     11.468000    7.100000  \n",
       "75%               4.761905e+00     21.873375    8.500000  \n",
       "max               4.761905e+00     49.490000   10.000000  "
      ]
     },
     "execution_count": 5,
     "metadata": {},
     "output_type": "execute_result"
    }
   ],
   "source": [
    "yangon = df[(df['City'] == 'Yangon')]\n",
    "yangon.describe()"
   ]
  },
  {
   "cell_type": "code",
   "execution_count": 6,
   "metadata": {},
   "outputs": [
    {
     "data": {
      "text/html": [
       "<div>\n",
       "<style scoped>\n",
       "    .dataframe tbody tr th:only-of-type {\n",
       "        vertical-align: middle;\n",
       "    }\n",
       "\n",
       "    .dataframe tbody tr th {\n",
       "        vertical-align: top;\n",
       "    }\n",
       "\n",
       "    .dataframe thead th {\n",
       "        text-align: right;\n",
       "    }\n",
       "</style>\n",
       "<table border=\"1\" class=\"dataframe\">\n",
       "  <thead>\n",
       "    <tr style=\"text-align: right;\">\n",
       "      <th></th>\n",
       "      <th>Unit price</th>\n",
       "      <th>Quantity</th>\n",
       "      <th>Tax 5%</th>\n",
       "      <th>Total</th>\n",
       "      <th>cogs</th>\n",
       "      <th>gross margin percentage</th>\n",
       "      <th>gross income</th>\n",
       "      <th>Rating</th>\n",
       "    </tr>\n",
       "  </thead>\n",
       "  <tbody>\n",
       "    <tr>\n",
       "      <th>count</th>\n",
       "      <td>332.000000</td>\n",
       "      <td>332.000000</td>\n",
       "      <td>332.000000</td>\n",
       "      <td>332.000000</td>\n",
       "      <td>332.000000</td>\n",
       "      <td>3.320000e+02</td>\n",
       "      <td>332.000000</td>\n",
       "      <td>332.000000</td>\n",
       "    </tr>\n",
       "    <tr>\n",
       "      <th>mean</th>\n",
       "      <td>55.659277</td>\n",
       "      <td>5.481928</td>\n",
       "      <td>15.232024</td>\n",
       "      <td>319.872506</td>\n",
       "      <td>304.640482</td>\n",
       "      <td>4.761905e+00</td>\n",
       "      <td>15.232024</td>\n",
       "      <td>6.818072</td>\n",
       "    </tr>\n",
       "    <tr>\n",
       "      <th>std</th>\n",
       "      <td>26.224559</td>\n",
       "      <td>2.896446</td>\n",
       "      <td>11.545122</td>\n",
       "      <td>242.447565</td>\n",
       "      <td>230.902443</td>\n",
       "      <td>1.601134e-14</td>\n",
       "      <td>11.545122</td>\n",
       "      <td>1.713719</td>\n",
       "    </tr>\n",
       "    <tr>\n",
       "      <th>min</th>\n",
       "      <td>10.590000</td>\n",
       "      <td>1.000000</td>\n",
       "      <td>0.887500</td>\n",
       "      <td>18.637500</td>\n",
       "      <td>17.750000</td>\n",
       "      <td>4.761905e+00</td>\n",
       "      <td>0.887500</td>\n",
       "      <td>4.000000</td>\n",
       "    </tr>\n",
       "    <tr>\n",
       "      <th>25%</th>\n",
       "      <td>33.300000</td>\n",
       "      <td>3.000000</td>\n",
       "      <td>5.711250</td>\n",
       "      <td>119.936250</td>\n",
       "      <td>114.225000</td>\n",
       "      <td>4.761905e+00</td>\n",
       "      <td>5.711250</td>\n",
       "      <td>5.300000</td>\n",
       "    </tr>\n",
       "    <tr>\n",
       "      <th>50%</th>\n",
       "      <td>54.850000</td>\n",
       "      <td>5.000000</td>\n",
       "      <td>12.042000</td>\n",
       "      <td>252.882000</td>\n",
       "      <td>240.840000</td>\n",
       "      <td>4.761905e+00</td>\n",
       "      <td>12.042000</td>\n",
       "      <td>6.700000</td>\n",
       "    </tr>\n",
       "    <tr>\n",
       "      <th>75%</th>\n",
       "      <td>77.002500</td>\n",
       "      <td>8.000000</td>\n",
       "      <td>22.170750</td>\n",
       "      <td>465.585750</td>\n",
       "      <td>443.415000</td>\n",
       "      <td>4.761905e+00</td>\n",
       "      <td>22.170750</td>\n",
       "      <td>8.200000</td>\n",
       "    </tr>\n",
       "    <tr>\n",
       "      <th>max</th>\n",
       "      <td>99.960000</td>\n",
       "      <td>10.000000</td>\n",
       "      <td>48.690000</td>\n",
       "      <td>1022.490000</td>\n",
       "      <td>973.800000</td>\n",
       "      <td>4.761905e+00</td>\n",
       "      <td>48.690000</td>\n",
       "      <td>10.000000</td>\n",
       "    </tr>\n",
       "  </tbody>\n",
       "</table>\n",
       "</div>"
      ],
      "text/plain": [
       "       Unit price    Quantity      Tax 5%        Total        cogs  \\\n",
       "count  332.000000  332.000000  332.000000   332.000000  332.000000   \n",
       "mean    55.659277    5.481928   15.232024   319.872506  304.640482   \n",
       "std     26.224559    2.896446   11.545122   242.447565  230.902443   \n",
       "min     10.590000    1.000000    0.887500    18.637500   17.750000   \n",
       "25%     33.300000    3.000000    5.711250   119.936250  114.225000   \n",
       "50%     54.850000    5.000000   12.042000   252.882000  240.840000   \n",
       "75%     77.002500    8.000000   22.170750   465.585750  443.415000   \n",
       "max     99.960000   10.000000   48.690000  1022.490000  973.800000   \n",
       "\n",
       "       gross margin percentage  gross income      Rating  \n",
       "count             3.320000e+02    332.000000  332.000000  \n",
       "mean              4.761905e+00     15.232024    6.818072  \n",
       "std               1.601134e-14     11.545122    1.713719  \n",
       "min               4.761905e+00      0.887500    4.000000  \n",
       "25%               4.761905e+00      5.711250    5.300000  \n",
       "50%               4.761905e+00     12.042000    6.700000  \n",
       "75%               4.761905e+00     22.170750    8.200000  \n",
       "max               4.761905e+00     48.690000   10.000000  "
      ]
     },
     "execution_count": 6,
     "metadata": {},
     "output_type": "execute_result"
    }
   ],
   "source": [
    "mandalay = df[(df['City'] == 'Mandalay')]\n",
    "mandalay.describe()"
   ]
  },
  {
   "cell_type": "code",
   "execution_count": 7,
   "metadata": {},
   "outputs": [
    {
     "data": {
      "text/html": [
       "<div>\n",
       "<style scoped>\n",
       "    .dataframe tbody tr th:only-of-type {\n",
       "        vertical-align: middle;\n",
       "    }\n",
       "\n",
       "    .dataframe tbody tr th {\n",
       "        vertical-align: top;\n",
       "    }\n",
       "\n",
       "    .dataframe thead th {\n",
       "        text-align: right;\n",
       "    }\n",
       "</style>\n",
       "<table border=\"1\" class=\"dataframe\">\n",
       "  <thead>\n",
       "    <tr style=\"text-align: right;\">\n",
       "      <th></th>\n",
       "      <th>Unit price</th>\n",
       "      <th>Quantity</th>\n",
       "      <th>Tax 5%</th>\n",
       "      <th>Total</th>\n",
       "      <th>cogs</th>\n",
       "      <th>gross margin percentage</th>\n",
       "      <th>gross income</th>\n",
       "      <th>Rating</th>\n",
       "    </tr>\n",
       "  </thead>\n",
       "  <tbody>\n",
       "    <tr>\n",
       "      <th>count</th>\n",
       "      <td>328.000000</td>\n",
       "      <td>328.000000</td>\n",
       "      <td>328.000000</td>\n",
       "      <td>328.000000</td>\n",
       "      <td>328.000000</td>\n",
       "      <td>3.280000e+02</td>\n",
       "      <td>328.000000</td>\n",
       "      <td>328.000000</td>\n",
       "    </tr>\n",
       "    <tr>\n",
       "      <th>mean</th>\n",
       "      <td>56.609024</td>\n",
       "      <td>5.582317</td>\n",
       "      <td>16.052367</td>\n",
       "      <td>337.099715</td>\n",
       "      <td>321.047348</td>\n",
       "      <td>4.761905e+00</td>\n",
       "      <td>16.052367</td>\n",
       "      <td>7.072866</td>\n",
       "    </tr>\n",
       "    <tr>\n",
       "      <th>std</th>\n",
       "      <td>27.179799</td>\n",
       "      <td>3.021724</td>\n",
       "      <td>12.531470</td>\n",
       "      <td>263.160870</td>\n",
       "      <td>250.629400</td>\n",
       "      <td>1.512210e-14</td>\n",
       "      <td>12.531470</td>\n",
       "      <td>1.704526</td>\n",
       "    </tr>\n",
       "    <tr>\n",
       "      <th>min</th>\n",
       "      <td>10.160000</td>\n",
       "      <td>1.000000</td>\n",
       "      <td>0.508500</td>\n",
       "      <td>10.678500</td>\n",
       "      <td>10.170000</td>\n",
       "      <td>4.761905e+00</td>\n",
       "      <td>0.508500</td>\n",
       "      <td>4.000000</td>\n",
       "    </tr>\n",
       "    <tr>\n",
       "      <th>25%</th>\n",
       "      <td>33.767500</td>\n",
       "      <td>3.000000</td>\n",
       "      <td>5.784500</td>\n",
       "      <td>121.474500</td>\n",
       "      <td>115.690000</td>\n",
       "      <td>4.761905e+00</td>\n",
       "      <td>5.784500</td>\n",
       "      <td>5.600000</td>\n",
       "    </tr>\n",
       "    <tr>\n",
       "      <th>50%</th>\n",
       "      <td>56.810000</td>\n",
       "      <td>6.000000</td>\n",
       "      <td>12.924750</td>\n",
       "      <td>271.419750</td>\n",
       "      <td>258.495000</td>\n",
       "      <td>4.761905e+00</td>\n",
       "      <td>12.924750</td>\n",
       "      <td>7.100000</td>\n",
       "    </tr>\n",
       "    <tr>\n",
       "      <th>75%</th>\n",
       "      <td>81.552500</td>\n",
       "      <td>8.000000</td>\n",
       "      <td>23.607375</td>\n",
       "      <td>495.754875</td>\n",
       "      <td>472.147500</td>\n",
       "      <td>4.761905e+00</td>\n",
       "      <td>23.607375</td>\n",
       "      <td>8.500000</td>\n",
       "    </tr>\n",
       "    <tr>\n",
       "      <th>max</th>\n",
       "      <td>99.960000</td>\n",
       "      <td>10.000000</td>\n",
       "      <td>49.650000</td>\n",
       "      <td>1042.650000</td>\n",
       "      <td>993.000000</td>\n",
       "      <td>4.761905e+00</td>\n",
       "      <td>49.650000</td>\n",
       "      <td>10.000000</td>\n",
       "    </tr>\n",
       "  </tbody>\n",
       "</table>\n",
       "</div>"
      ],
      "text/plain": [
       "       Unit price    Quantity      Tax 5%        Total        cogs  \\\n",
       "count  328.000000  328.000000  328.000000   328.000000  328.000000   \n",
       "mean    56.609024    5.582317   16.052367   337.099715  321.047348   \n",
       "std     27.179799    3.021724   12.531470   263.160870  250.629400   \n",
       "min     10.160000    1.000000    0.508500    10.678500   10.170000   \n",
       "25%     33.767500    3.000000    5.784500   121.474500  115.690000   \n",
       "50%     56.810000    6.000000   12.924750   271.419750  258.495000   \n",
       "75%     81.552500    8.000000   23.607375   495.754875  472.147500   \n",
       "max     99.960000   10.000000   49.650000  1042.650000  993.000000   \n",
       "\n",
       "       gross margin percentage  gross income      Rating  \n",
       "count             3.280000e+02    328.000000  328.000000  \n",
       "mean              4.761905e+00     16.052367    7.072866  \n",
       "std               1.512210e-14     12.531470    1.704526  \n",
       "min               4.761905e+00      0.508500    4.000000  \n",
       "25%               4.761905e+00      5.784500    5.600000  \n",
       "50%               4.761905e+00     12.924750    7.100000  \n",
       "75%               4.761905e+00     23.607375    8.500000  \n",
       "max               4.761905e+00     49.650000   10.000000  "
      ]
     },
     "execution_count": 7,
     "metadata": {},
     "output_type": "execute_result"
    }
   ],
   "source": [
    "naypyitaw = df[(df['City'] == 'Naypyitaw')]\n",
    "naypyitaw.describe()"
   ]
  },
  {
   "cell_type": "code",
   "execution_count": 8,
   "metadata": {},
   "outputs": [
    {
     "data": {
      "image/png": "[encoded data removed]",
      "text/plain": [
       "<Figure size 432x288 with 1 Axes>"
      ]
     },
     "metadata": {
      "needs_background": "light"
     },
     "output_type": "display_data"
    }
   ],
   "source": [
    "yangon_dist = yangon['Rating']\n",
    "density = stats.gaussian_kde(yangon_dist)\n",
    "n, x, _ = plt.hist(yangon_dist, histtype='step', bins=25)  \n",
    "plt.plot(x, density(x)*2**7.5)\n",
    "plt.axvline(yangon_dist.mean(), color='magenta', linestyle='dashed', linewidth=2)\n",
    "plt.axvline(yangon_dist.median(), color='green', linestyle='dashed', linewidth=2)\n",
    "plt.show()"
   ]
  },
  {
   "cell_type": "code",
   "execution_count": 9,
   "metadata": {},
   "outputs": [
    {
     "data": {
      "image/png": "[encoded data removed]",
      "text/plain": [
       "<Figure size 432x288 with 1 Axes>"
      ]
     },
     "metadata": {
      "needs_background": "light"
     },
     "output_type": "display_data"
    }
   ],
   "source": [
    "mandalay_dist = mandalay['Rating']\n",
    "density = stats.gaussian_kde(mandalay_dist)\n",
    "n, x, _ = plt.hist(mandalay_dist, histtype='step', bins=25)  \n",
    "plt.plot(x, density(x)*2**7.5)\n",
    "plt.axvline(mandalay_dist.mean(), color='magenta', linestyle='dashed', linewidth=2)\n",
    "plt.axvline(mandalay_dist.median(), color='green', linestyle='dashed', linewidth=2)\n",
    "plt.show()"
   ]
  },
  {
   "cell_type": "code",
   "execution_count": 10,
   "metadata": {},
   "outputs": [
    {
     "data": {
      "image/png": "[encoded data removed]",
      "text/plain": [
       "<Figure size 432x288 with 1 Axes>"
      ]
     },
     "metadata": {
      "needs_background": "light"
     },
     "output_type": "display_data"
    }
   ],
   "source": [
    "naypyitaw_dist = naypyitaw['Rating']\n",
    "density = stats.gaussian_kde(naypyitaw_dist)\n",
    "n, x, _ = plt.hist(naypyitaw_dist, histtype='step', bins=25)  \n",
    "plt.plot(x, density(x)*2**7.5)\n",
    "plt.axvline(naypyitaw_dist.mean(), color='magenta', linestyle='dashed', linewidth=2)\n",
    "plt.axvline(naypyitaw_dist.median(), color='green', linestyle='dashed', linewidth=2)\n",
    "plt.show()"
   ]
  },
  {
   "cell_type": "markdown",
   "metadata": {},
   "source": [
    "# v. Measure of Central Tendency"
   ]
  },
  {
   "cell_type": "code",
   "execution_count": 11,
   "metadata": {},
   "outputs": [
    {
     "name": "stdout",
     "output_type": "stream",
     "text": [
      "Modus Yangon Rating : 0    4.2\n",
      "1    6.6\n",
      "dtype: float64\n",
      "Median Yangon Rating : 7.1\n",
      "Mean Yangon Rating : 7.027058823529413\n"
     ]
    }
   ],
   "source": [
    "print('Modus Yangon Rating :', str(yangon['Rating'].mode()))\n",
    "print('Median Yangon Rating :', str(yangon['Rating'].median()))\n",
    "print('Mean Yangon Rating :', str(yangon['Rating'].mean()))"
   ]
  },
  {
   "cell_type": "code",
   "execution_count": 12,
   "metadata": {},
   "outputs": [
    {
     "name": "stdout",
     "output_type": "stream",
     "text": [
      "Modus Mandalay Rating : 0    5.1\n",
      "1    6.5\n",
      "2    8.9\n",
      "dtype: float64\n",
      "Median Mandalay Rating : 6.7\n",
      "Mean Mandalay Rating : 6.8180722891566266\n"
     ]
    }
   ],
   "source": [
    "print('Modus Mandalay Rating :', str(mandalay['Rating'].mode()))\n",
    "print('Median Mandalay Rating :', str(mandalay['Rating'].median()))\n",
    "print('Mean Mandalay Rating :', str(mandalay['Rating'].mean()))"
   ]
  },
  {
   "cell_type": "code",
   "execution_count": 79,
   "metadata": {},
   "outputs": [
    {
     "name": "stdout",
     "output_type": "stream",
     "text": [
      "Modus Naypyitaw Rating : 0    6.0\n",
      "1    9.5\n",
      "dtype: float64\n",
      "Median Naypyitaw Rating : 7.1\n",
      "Mean Naypyitaw Rating : 7.072865853658538\n"
     ]
    }
   ],
   "source": [
    "print('Modus Naypyitaw Rating :', str(naypyitaw['Rating'].mode()))\n",
    "print('Median Naypyitaw Rating :', str(naypyitaw['Rating'].median()))\n",
    "print('Mean Naypyitaw Rating :', str(naypyitaw['Rating'].mean()))"
   ]
  },
  {
   "cell_type": "markdown",
   "metadata": {},
   "source": [
    "# v.i. Measure of Variance"
   ]
  },
  {
   "cell_type": "markdown",
   "metadata": {},
   "source": [
    "Measure of Variance - Range"
   ]
  },
  {
   "cell_type": "code",
   "execution_count": 13,
   "metadata": {},
   "outputs": [
    {
     "name": "stdout",
     "output_type": "stream",
     "text": [
      "Rating  range untuk Yangon Rating :  6.0\n"
     ]
    }
   ],
   "source": [
    "numcols = ['Rating']\n",
    "for col in numcols:\n",
    "    print(yangon[col].name, ' range untuk Yangon Rating : ', str(yangon[col].max() - yangon[col].min()))"
   ]
  },
  {
   "cell_type": "code",
   "execution_count": 14,
   "metadata": {},
   "outputs": [
    {
     "name": "stdout",
     "output_type": "stream",
     "text": [
      "Rating  range untuk Mandalay Rating :  6.0\n"
     ]
    }
   ],
   "source": [
    "numcols = ['Rating']\n",
    "for col in numcols:\n",
    "    print(mandalay[col].name, ' range untuk Mandalay Rating : ', str(mandalay[col].max() - mandalay[col].min()))"
   ]
  },
  {
   "cell_type": "code",
   "execution_count": 80,
   "metadata": {},
   "outputs": [
    {
     "name": "stdout",
     "output_type": "stream",
     "text": [
      "Rating  range untuk Naypyitaw Rating :  6.0\n"
     ]
    }
   ],
   "source": [
    "numcols = ['Rating']\n",
    "for col in numcols:\n",
    "    print(naypyitaw[col].name, ' range untuk Naypyitaw Rating : ', str(naypyitaw[col].max() - naypyitaw[col].min()))"
   ]
  },
  {
   "cell_type": "markdown",
   "metadata": {},
   "source": [
    "Measure of Variance - Variance"
   ]
  },
  {
   "cell_type": "code",
   "execution_count": 15,
   "metadata": {},
   "outputs": [
    {
     "name": "stdout",
     "output_type": "stream",
     "text": [
      "Nilai Variance Yangon rating : 2.997554745792124\n"
     ]
    }
   ],
   "source": [
    "print('Nilai Variance Yangon rating :', yangon['Rating'].var())"
   ]
  },
  {
   "cell_type": "code",
   "execution_count": 16,
   "metadata": {},
   "outputs": [
    {
     "name": "stdout",
     "output_type": "stream",
     "text": [
      "Nilai Variance Mandalay rating : 2.9368325264805457\n"
     ]
    }
   ],
   "source": [
    "print('Nilai Variance Mandalay rating :', mandalay['Rating'].var())"
   ]
  },
  {
   "cell_type": "code",
   "execution_count": 81,
   "metadata": {},
   "outputs": [
    {
     "name": "stdout",
     "output_type": "stream",
     "text": [
      "Nilai Variance Naypyitaw rating : 2.90540827552771\n"
     ]
    }
   ],
   "source": [
    "print('Nilai Variance Naypyitaw rating :', naypyitaw['Rating'].var())"
   ]
  },
  {
   "cell_type": "markdown",
   "metadata": {},
   "source": [
    "Measure of Variance - Standard Deviation"
   ]
  },
  {
   "cell_type": "code",
   "execution_count": 17,
   "metadata": {},
   "outputs": [
    {
     "name": "stdout",
     "output_type": "stream",
     "text": [
      "Standar deviation Yangon rating : 1.7313447795838135\n"
     ]
    }
   ],
   "source": [
    "print('Standar deviation Yangon rating :', yangon['Rating'].std())"
   ]
  },
  {
   "cell_type": "code",
   "execution_count": 18,
   "metadata": {},
   "outputs": [
    {
     "name": "stdout",
     "output_type": "stream",
     "text": [
      "Standar deviation Mandalay rating : 1.7137189169990934\n"
     ]
    }
   ],
   "source": [
    "print('Standar deviation Mandalay rating :', mandalay['Rating'].std())"
   ]
  },
  {
   "cell_type": "code",
   "execution_count": 83,
   "metadata": {},
   "outputs": [
    {
     "name": "stdout",
     "output_type": "stream",
     "text": [
      "Standar deviation Naypyitaw rating : 1.7045258213144527\n"
     ]
    }
   ],
   "source": [
    "print('Standar deviation Naypyitaw rating :', naypyitaw['Rating'].std())"
   ]
  },
  {
   "cell_type": "markdown",
   "metadata": {},
   "source": [
    "# vi. Hypothesis testing\n",
    "\n",
    "Pengujian hipotesis yang digunakan adalah ANOVA test dengan 3 sample yaitu mean rating dari masing-masing kota, dengan objective mencari tahu apakah mean rating dari kota tersebut apakah memiliki perbedaan yang signifikan, atau tidak berbeda signifikan.\n",
    "\n",
    "H0 : Mean of Yangon rating == Mean of Mandalay rating.\n",
    "\n",
    "H1 : Mean of Yangon rating != Mean of Mandalay rating."
   ]
  },
  {
   "cell_type": "code",
   "execution_count": 95,
   "metadata": {},
   "outputs": [
    {
     "data": {
      "text/plain": [
       "7.027058823529413"
      ]
     },
     "execution_count": 95,
     "metadata": {},
     "output_type": "execute_result"
    }
   ],
   "source": [
    "total_yangon = df[df['City'] == 'Yangon']['Rating']\n",
    "total_yangon.mean()"
   ]
  },
  {
   "cell_type": "code",
   "execution_count": 97,
   "metadata": {},
   "outputs": [
    {
     "data": {
      "text/plain": [
       "6.8180722891566266"
      ]
     },
     "execution_count": 97,
     "metadata": {},
     "output_type": "execute_result"
    }
   ],
   "source": [
    "total_mandalay = df[df['City'] == 'Mandalay']['Rating']\n",
    "total_mandalay.mean()"
   ]
  },
  {
   "cell_type": "code",
   "execution_count": 98,
   "metadata": {},
   "outputs": [
    {
     "data": {
      "text/plain": [
       "7.072865853658538"
      ]
     },
     "execution_count": 98,
     "metadata": {},
     "output_type": "execute_result"
    }
   ],
   "source": [
    "total_naypyitaw = df[df['City'] == 'Naypyitaw']['Rating']\n",
    "total_naypyitaw.mean()"
   ]
  },
  {
   "cell_type": "code",
   "execution_count": 100,
   "metadata": {},
   "outputs": [
    {
     "name": "stdout",
     "output_type": "stream",
     "text": [
      "P-value: 0.1163469684078779\n",
      "t-statistics: 1.5723263581567595\n"
     ]
    }
   ],
   "source": [
    "f_stat, p_value = stats.f_oneway(total_yangon, total_mandalay, total_naypyitaw)\n",
    "\n",
    "print('P-value:',p_val)\n",
    "print('t-statistics:',t_stat)"
   ]
  },
  {
   "cell_type": "markdown",
   "metadata": {},
   "source": [
    "# vii. Visualisasi dengan Boxplot untuk melihat persebaran sampel rating antara masing-masing kota."
   ]
  },
  {
   "cell_type": "code",
   "execution_count": 76,
   "metadata": {},
   "outputs": [
    {
     "data": {
      "application/vnd.plotly.v1+json": {
       "config": {
        "plotlyServerURL": "https://plot.ly"
       },
       "data": [
        {
         "alignmentgroup": "True",
         "hovertemplate": "City=%{x}<br>Rating=%{y}<extra></extra>",
         "legendgroup": "",
         "marker": {
          "color": "#636efa"
         },
         "name": "",
         "notched": false,
         "offsetgroup": "",
         "orientation": "v",
         "showlegend": false,
         "type": "box",
         "x": [
          "Yangon",
          "Naypyitaw",
          "Yangon",
          "Yangon",
          "Yangon",
          "Naypyitaw",
          "Yangon",
          "Naypyitaw",
          "Yangon",
          "Mandalay",
          "Mandalay",
          "Mandalay",
          "Yangon",
          "Yangon",
          "Yangon",
          "Mandalay",
          "Yangon",
          "Yangon",
          "Yangon",
          "Mandalay",
          "Naypyitaw",
          "Mandalay",
          "Mandalay",
          "Yangon",
          "Yangon",
          "Yangon",
          "Mandalay",
          "Yangon",
          "Mandalay",
          "Yangon",
          "Mandalay",
          "Mandalay",
          "Mandalay",
          "Yangon",
          "Naypyitaw",
          "Naypyitaw",
          "Yangon",
          "Yangon",
          "Naypyitaw",
          "Mandalay",
          "Mandalay",
          "Naypyitaw",
          "Mandalay",
          "Naypyitaw",
          "Naypyitaw",
          "Mandalay",
          "Mandalay",
          "Mandalay",
          "Mandalay",
          "Naypyitaw",
          "Naypyitaw",
          "Yangon",
          "Mandalay",
          "Naypyitaw",
          "Mandalay",
          "Naypyitaw",
          "Yangon",
          "Yangon",
          "Yangon",
          "Naypyitaw",
          "Naypyitaw",
          "Naypyitaw",
          "Mandalay",
          "Yangon",
          "Mandalay",
          "Yangon",
          "Naypyitaw",
          "Mandalay",
          "Yangon",
          "Yangon",
          "Naypyitaw",
          "Naypyitaw",
          "Mandalay",
          "Naypyitaw",
          "Yangon",
          "Naypyitaw",
          "Naypyitaw",
          "Yangon",
          "Naypyitaw",
          "Naypyitaw",
          "Naypyitaw",
          "Mandalay",
          "Naypyitaw",
          "Naypyitaw",
          "Naypyitaw",
          "Naypyitaw",
          "Naypyitaw",
          "Yangon",
          "Yangon",
          "Mandalay",
          "Naypyitaw",
          "Naypyitaw",
          "Yangon",
          "Mandalay",
          "Naypyitaw",
          "Yangon",
          "Mandalay",
          "Naypyitaw",
          "Yangon",
          "Mandalay",
          "Naypyitaw",
          "Naypyitaw",
          "Naypyitaw",
          "Yangon",
          "Mandalay",
          "Yangon",
          "Naypyitaw",
          "Yangon",
          "Naypyitaw",
          "Naypyitaw",
          "Mandalay",
          "Naypyitaw",
          "Mandalay",
          "Yangon",
          "Naypyitaw",
          "Naypyitaw",
          "Mandalay",
          "Mandalay",
          "Yangon",
          "Mandalay",
          "Yangon",
          "Naypyitaw",
          "Mandalay",
          "Naypyitaw",
          "Mandalay",
          "Yangon",
          "Yangon",
          "Naypyitaw",
          "Naypyitaw",
          "Mandalay",
          "Mandalay",
          "Yangon",
          "Mandalay",
          "Mandalay",
          "Naypyitaw",
          "Naypyitaw",
          "Yangon",
          "Yangon",
          "Mandalay",
          "Yangon",
          "Naypyitaw",
          "Naypyitaw",
          "Naypyitaw",
          "Naypyitaw",
          "Yangon",
          "Naypyitaw",
          "Yangon",
          "Naypyitaw",
          "Mandalay",
          "Yangon",
          "Mandalay",
          "Naypyitaw",
          "Yangon",
          "Naypyitaw",
          "Naypyitaw",
          "Yangon",
          "Mandalay",
          "Mandalay",
          "Mandalay",
          "Mandalay",
          "Naypyitaw",
          "Yangon",
          "Yangon",
          "Naypyitaw",
          "Mandalay",
          "Mandalay",
          "Naypyitaw",
          "Yangon",
          "Yangon",
          "Yangon",
          "Yangon",
          "Mandalay",
          "Naypyitaw",
          "Mandalay",
          "Mandalay",
          "Yangon",
          "Yangon",
          "Naypyitaw",
          "Yangon",
          "Naypyitaw",
          "Naypyitaw",
          "Naypyitaw",
          "Yangon",
          "Naypyitaw",
          "Yangon",
          "Mandalay",
          "Mandalay",
          "Mandalay",
          "Yangon",
          "Naypyitaw",
          "Mandalay",
          "Mandalay",
          "Naypyitaw",
          "Mandalay",
          "Yangon",
          "Naypyitaw",
          "Naypyitaw",
          "Yangon",
          "Naypyitaw",
          "Naypyitaw",
          "Naypyitaw",
          "Mandalay",
          "Naypyitaw",
          "Mandalay",
          "Mandalay",
          "Yangon",
          "Naypyitaw",
          "Naypyitaw",
          "Mandalay",
          "Mandalay",
          "Yangon",
          "Naypyitaw",
          "Mandalay",
          "Mandalay",
          "Mandalay",
          "Yangon",
          "Mandalay",
          "Yangon",
          "Mandalay",
          "Mandalay",
          "Mandalay",
          "Mandalay",
          "Naypyitaw",
          "Naypyitaw",
          "Yangon",
          "Naypyitaw",
          "Mandalay",
          "Naypyitaw",
          "Mandalay",
          "Yangon",
          "Mandalay",
          "Mandalay",
          "Mandalay",
          "Mandalay",
          "Yangon",
          "Yangon",
          "Naypyitaw",
          "Naypyitaw",
          "Mandalay",
          "Yangon",
          "Yangon",
          "Yangon",
          "Naypyitaw",
          "Yangon",
          "Mandalay",
          "Yangon",
          "Mandalay",
          "Yangon",
          "Yangon",
          "Mandalay",
          "Mandalay",
          "Naypyitaw",
          "Naypyitaw",
          "Yangon",
          "Yangon",
          "Mandalay",
          "Yangon",
          "Yangon",
          "Yangon",
          "Naypyitaw",
          "Yangon",
          "Naypyitaw",
          "Mandalay",
          "Yangon",
          "Mandalay",
          "Yangon",
          "Naypyitaw",
          "Mandalay",
          "Yangon",
          "Yangon",
          "Mandalay",
          "Naypyitaw",
          "Yangon",
          "Yangon",
          "Mandalay",
          "Mandalay",
          "Naypyitaw",
          "Naypyitaw",
          "Naypyitaw",
          "Yangon",
          "Yangon",
          "Naypyitaw",
          "Yangon",
          "Yangon",
          "Yangon",
          "Mandalay",
          "Naypyitaw",
          "Naypyitaw",
          "Mandalay",
          "Yangon",
          "Mandalay",
          "Naypyitaw",
          "Yangon",
          "Yangon",
          "Mandalay",
          "Naypyitaw",
          "Naypyitaw",
          "Yangon",
          "Yangon",
          "Naypyitaw",
          "Naypyitaw",
          "Mandalay",
          "Naypyitaw",
          "Yangon",
          "Mandalay",
          "Yangon",
          "Yangon",
          "Yangon",
          "Yangon",
          "Yangon",
          "Mandalay",
          "Naypyitaw",
          "Yangon",
          "Yangon",
          "Naypyitaw",
          "Naypyitaw",
          "Naypyitaw",
          "Naypyitaw",
          "Naypyitaw",
          "Naypyitaw",
          "Naypyitaw",
          "Naypyitaw",
          "Yangon",
          "Yangon",
          "Yangon",
          "Mandalay",
          "Yangon",
          "Naypyitaw",
          "Mandalay",
          "Yangon",
          "Mandalay",
          "Yangon",
          "Yangon",
          "Yangon",
          "Naypyitaw",
          "Yangon",
          "Yangon",
          "Mandalay",
          "Naypyitaw",
          "Mandalay",
          "Mandalay",
          "Mandalay",
          "Mandalay",
          "Naypyitaw",
          "Yangon",
          "Yangon",
          "Yangon",
          "Naypyitaw",
          "Yangon",
          "Mandalay",
          "Naypyitaw",
          "Yangon",
          "Mandalay",
          "Mandalay",
          "Naypyitaw",
          "Mandalay",
          "Naypyitaw",
          "Naypyitaw",
          "Mandalay",
          "Mandalay",
          "Yangon",
          "Naypyitaw",
          "Naypyitaw",
          "Yangon",
          "Naypyitaw",
          "Naypyitaw",
          "Naypyitaw",
          "Yangon",
          "Naypyitaw",
          "Yangon",
          "Mandalay",
          "Mandalay",
          "Naypyitaw",
          "Naypyitaw",
          "Yangon",
          "Yangon",
          "Mandalay",
          "Naypyitaw",
          "Naypyitaw",
          "Mandalay",
          "Yangon",
          "Naypyitaw",
          "Mandalay",
          "Naypyitaw",
          "Yangon",
          "Mandalay",
          "Naypyitaw",
          "Yangon",
          "Naypyitaw",
          "Mandalay",
          "Naypyitaw",
          "Mandalay",
          "Yangon",
          "Yangon",
          "Yangon",
          "Yangon",
          "Yangon",
          "Mandalay",
          "Mandalay",
          "Mandalay",
          "Naypyitaw",
          "Naypyitaw",
          "Naypyitaw",
          "Mandalay",
          "Naypyitaw",
          "Yangon",
          "Yangon",
          "Mandalay",
          "Yangon",
          "Naypyitaw",
          "Mandalay",
          "Mandalay",
          "Yangon",
          "Yangon",
          "Yangon",
          "Mandalay",
          "Naypyitaw",
          "Naypyitaw",
          "Mandalay",
          "Yangon",
          "Naypyitaw",
          "Naypyitaw",
          "Naypyitaw",
          "Mandalay",
          "Naypyitaw",
          "Mandalay",
          "Yangon",
          "Mandalay",
          "Mandalay",
          "Yangon",
          "Mandalay",
          "Naypyitaw",
          "Yangon",
          "Mandalay",
          "Mandalay",
          "Naypyitaw",
          "Naypyitaw",
          "Yangon",
          "Naypyitaw",
          "Naypyitaw",
          "Naypyitaw",
          "Mandalay",
          "Yangon",
          "Naypyitaw",
          "Yangon",
          "Mandalay",
          "Naypyitaw",
          "Naypyitaw",
          "Mandalay",
          "Mandalay",
          "Mandalay",
          "Mandalay",
          "Yangon",
          "Yangon",
          "Yangon",
          "Mandalay",
          "Mandalay",
          "Mandalay",
          "Naypyitaw",
          "Naypyitaw",
          "Naypyitaw",
          "Mandalay",
          "Naypyitaw",
          "Naypyitaw",
          "Yangon",
          "Naypyitaw",
          "Naypyitaw",
          "Mandalay",
          "Naypyitaw",
          "Naypyitaw",
          "Naypyitaw",
          "Yangon",
          "Yangon",
          "Mandalay",
          "Yangon",
          "Yangon",
          "Yangon",
          "Naypyitaw",
          "Mandalay",
          "Yangon",
          "Naypyitaw",
          "Naypyitaw",
          "Yangon",
          "Mandalay",
          "Naypyitaw",
          "Mandalay",
          "Mandalay",
          "Yangon",
          "Naypyitaw",
          "Mandalay",
          "Mandalay",
          "Yangon",
          "Mandalay",
          "Naypyitaw",
          "Mandalay",
          "Mandalay",
          "Naypyitaw",
          "Naypyitaw",
          "Mandalay",
          "Yangon",
          "Mandalay",
          "Naypyitaw",
          "Naypyitaw",
          "Mandalay",
          "Mandalay",
          "Yangon",
          "Mandalay",
          "Mandalay",
          "Mandalay",
          "Naypyitaw",
          "Mandalay",
          "Yangon",
          "Yangon",
          "Yangon",
          "Naypyitaw",
          "Naypyitaw",
          "Mandalay",
          "Naypyitaw",
          "Yangon",
          "Naypyitaw",
          "Mandalay",
          "Naypyitaw",
          "Yangon",
          "Naypyitaw",
          "Yangon",
          "Yangon",
          "Mandalay",
          "Mandalay",
          "Mandalay",
          "Yangon",
          "Yangon",
          "Yangon",
          "Mandalay",
          "Naypyitaw",
          "Yangon",
          "Naypyitaw",
          "Mandalay",
          "Yangon",
          "Yangon",
          "Naypyitaw",
          "Yangon",
          "Naypyitaw",
          "Mandalay",
          "Naypyitaw",
          "Mandalay",
          "Mandalay",
          "Yangon",
          "Yangon",
          "Mandalay",
          "Yangon",
          "Mandalay",
          "Mandalay",
          "Mandalay",
          "Naypyitaw",
          "Yangon",
          "Mandalay",
          "Mandalay",
          "Naypyitaw",
          "Yangon",
          "Yangon",
          "Mandalay",
          "Naypyitaw",
          "Mandalay",
          "Yangon",
          "Mandalay",
          "Yangon",
          "Naypyitaw",
          "Yangon",
          "Mandalay",
          "Naypyitaw",
          "Mandalay",
          "Mandalay",
          "Yangon",
          "Mandalay",
          "Yangon",
          "Mandalay",
          "Mandalay",
          "Naypyitaw",
          "Yangon",
          "Mandalay",
          "Naypyitaw",
          "Yangon",
          "Naypyitaw",
          "Mandalay",
          "Mandalay",
          "Yangon",
          "Yangon",
          "Yangon",
          "Naypyitaw",
          "Yangon",
          "Naypyitaw",
          "Naypyitaw",
          "Yangon",
          "Yangon",
          "Mandalay",
          "Mandalay",
          "Yangon",
          "Naypyitaw",
          "Naypyitaw",
          "Yangon",
          "Naypyitaw",
          "Naypyitaw",
          "Naypyitaw",
          "Mandalay",
          "Naypyitaw",
          "Mandalay",
          "Yangon",
          "Naypyitaw",
          "Yangon",
          "Mandalay",
          "Yangon",
          "Naypyitaw",
          "Mandalay",
          "Naypyitaw",
          "Yangon",
          "Yangon",
          "Mandalay",
          "Naypyitaw",
          "Yangon",
          "Naypyitaw",
          "Yangon",
          "Yangon",
          "Mandalay",
          "Mandalay",
          "Mandalay",
          "Mandalay",
          "Yangon",
          "Mandalay",
          "Yangon",
          "Yangon",
          "Yangon",
          "Yangon",
          "Yangon",
          "Mandalay",
          "Mandalay",
          "Mandalay",
          "Yangon",
          "Naypyitaw",
          "Mandalay",
          "Mandalay",
          "Mandalay",
          "Naypyitaw",
          "Mandalay",
          "Naypyitaw",
          "Naypyitaw",
          "Yangon",
          "Naypyitaw",
          "Mandalay",
          "Naypyitaw",
          "Naypyitaw",
          "Mandalay",
          "Mandalay",
          "Yangon",
          "Mandalay",
          "Mandalay",
          "Yangon",
          "Naypyitaw",
          "Yangon",
          "Yangon",
          "Yangon",
          "Mandalay",
          "Naypyitaw",
          "Mandalay",
          "Naypyitaw",
          "Naypyitaw",
          "Yangon",
          "Mandalay",
          "Mandalay",
          "Naypyitaw",
          "Mandalay",
          "Yangon",
          "Mandalay",
          "Mandalay",
          "Naypyitaw",
          "Yangon",
          "Mandalay",
          "Mandalay",
          "Yangon",
          "Naypyitaw",
          "Yangon",
          "Mandalay",
          "Mandalay",
          "Naypyitaw",
          "Yangon",
          "Mandalay",
          "Mandalay",
          "Mandalay",
          "Yangon",
          "Naypyitaw",
          "Yangon",
          "Naypyitaw",
          "Naypyitaw",
          "Yangon",
          "Naypyitaw",
          "Naypyitaw",
          "Yangon",
          "Yangon",
          "Mandalay",
          "Yangon",
          "Naypyitaw",
          "Naypyitaw",
          "Mandalay",
          "Mandalay",
          "Mandalay",
          "Mandalay",
          "Mandalay",
          "Mandalay",
          "Naypyitaw",
          "Naypyitaw",
          "Yangon",
          "Yangon",
          "Naypyitaw",
          "Naypyitaw",
          "Naypyitaw",
          "Naypyitaw",
          "Yangon",
          "Yangon",
          "Yangon",
          "Yangon",
          "Mandalay",
          "Mandalay",
          "Naypyitaw",
          "Mandalay",
          "Naypyitaw",
          "Mandalay",
          "Naypyitaw",
          "Naypyitaw",
          "Mandalay",
          "Naypyitaw",
          "Mandalay",
          "Yangon",
          "Yangon",
          "Yangon",
          "Mandalay",
          "Mandalay",
          "Naypyitaw",
          "Naypyitaw",
          "Naypyitaw",
          "Mandalay",
          "Yangon",
          "Naypyitaw",
          "Naypyitaw",
          "Yangon",
          "Yangon",
          "Naypyitaw",
          "Naypyitaw",
          "Mandalay",
          "Naypyitaw",
          "Mandalay",
          "Naypyitaw",
          "Mandalay",
          "Yangon",
          "Yangon",
          "Mandalay",
          "Naypyitaw",
          "Yangon",
          "Mandalay",
          "Yangon",
          "Yangon",
          "Yangon",
          "Mandalay",
          "Mandalay",
          "Yangon",
          "Yangon",
          "Yangon",
          "Mandalay",
          "Naypyitaw",
          "Mandalay",
          "Mandalay",
          "Yangon",
          "Mandalay",
          "Naypyitaw",
          "Naypyitaw",
          "Naypyitaw",
          "Naypyitaw",
          "Mandalay",
          "Naypyitaw",
          "Mandalay",
          "Naypyitaw",
          "Mandalay",
          "Naypyitaw",
          "Yangon",
          "Yangon",
          "Naypyitaw",
          "Naypyitaw",
          "Yangon",
          "Naypyitaw",
          "Naypyitaw",
          "Naypyitaw",
          "Yangon",
          "Yangon",
          "Naypyitaw",
          "Mandalay",
          "Yangon",
          "Yangon",
          "Mandalay",
          "Naypyitaw",
          "Yangon",
          "Mandalay",
          "Naypyitaw",
          "Mandalay",
          "Naypyitaw",
          "Naypyitaw",
          "Yangon",
          "Mandalay",
          "Yangon",
          "Yangon",
          "Yangon",
          "Mandalay",
          "Naypyitaw",
          "Mandalay",
          "Yangon",
          "Naypyitaw",
          "Yangon",
          "Yangon",
          "Mandalay",
          "Naypyitaw",
          "Yangon",
          "Mandalay",
          "Mandalay",
          "Mandalay",
          "Yangon",
          "Naypyitaw",
          "Yangon",
          "Mandalay",
          "Yangon",
          "Mandalay",
          "Yangon",
          "Naypyitaw",
          "Yangon",
          "Yangon",
          "Mandalay",
          "Mandalay",
          "Yangon",
          "Mandalay",
          "Yangon",
          "Yangon",
          "Mandalay",
          "Naypyitaw",
          "Naypyitaw",
          "Yangon",
          "Mandalay",
          "Yangon",
          "Naypyitaw",
          "Yangon",
          "Yangon",
          "Yangon",
          "Naypyitaw",
          "Naypyitaw",
          "Yangon",
          "Yangon",
          "Yangon",
          "Naypyitaw",
          "Mandalay",
          "Yangon",
          "Mandalay",
          "Mandalay",
          "Yangon",
          "Mandalay",
          "Yangon",
          "Naypyitaw",
          "Yangon",
          "Mandalay",
          "Mandalay",
          "Yangon",
          "Naypyitaw",
          "Mandalay",
          "Naypyitaw",
          "Naypyitaw",
          "Yangon",
          "Yangon",
          "Naypyitaw",
          "Mandalay",
          "Yangon",
          "Yangon",
          "Naypyitaw",
          "Naypyitaw",
          "Mandalay",
          "Yangon",
          "Mandalay",
          "Mandalay",
          "Naypyitaw",
          "Mandalay",
          "Yangon",
          "Yangon",
          "Yangon",
          "Yangon",
          "Yangon",
          "Naypyitaw",
          "Yangon",
          "Naypyitaw",
          "Mandalay",
          "Naypyitaw",
          "Mandalay",
          "Mandalay",
          "Mandalay",
          "Naypyitaw",
          "Naypyitaw",
          "Naypyitaw",
          "Yangon",
          "Naypyitaw",
          "Mandalay",
          "Yangon",
          "Yangon",
          "Naypyitaw",
          "Naypyitaw",
          "Naypyitaw",
          "Mandalay",
          "Yangon",
          "Mandalay",
          "Mandalay",
          "Naypyitaw",
          "Yangon",
          "Yangon",
          "Yangon",
          "Naypyitaw",
          "Naypyitaw",
          "Yangon",
          "Mandalay",
          "Mandalay",
          "Naypyitaw",
          "Mandalay",
          "Naypyitaw",
          "Naypyitaw",
          "Naypyitaw",
          "Mandalay",
          "Mandalay",
          "Yangon",
          "Mandalay",
          "Mandalay",
          "Mandalay",
          "Naypyitaw",
          "Yangon",
          "Naypyitaw",
          "Mandalay",
          "Naypyitaw",
          "Naypyitaw",
          "Yangon",
          "Yangon",
          "Naypyitaw",
          "Yangon",
          "Naypyitaw",
          "Yangon",
          "Yangon",
          "Yangon",
          "Yangon",
          "Naypyitaw",
          "Mandalay",
          "Naypyitaw",
          "Mandalay",
          "Mandalay",
          "Mandalay",
          "Mandalay",
          "Naypyitaw",
          "Mandalay",
          "Yangon",
          "Naypyitaw",
          "Mandalay",
          "Naypyitaw",
          "Yangon",
          "Naypyitaw",
          "Yangon",
          "Yangon",
          "Naypyitaw",
          "Mandalay",
          "Mandalay",
          "Yangon",
          "Yangon",
          "Yangon",
          "Mandalay",
          "Mandalay",
          "Mandalay",
          "Mandalay",
          "Yangon",
          "Naypyitaw",
          "Mandalay",
          "Yangon",
          "Mandalay",
          "Mandalay",
          "Mandalay",
          "Naypyitaw",
          "Yangon",
          "Yangon",
          "Naypyitaw",
          "Naypyitaw",
          "Mandalay",
          "Mandalay",
          "Mandalay",
          "Naypyitaw",
          "Mandalay",
          "Yangon",
          "Mandalay",
          "Yangon",
          "Mandalay",
          "Naypyitaw",
          "Naypyitaw",
          "Mandalay",
          "Yangon",
          "Yangon",
          "Yangon"
         ],
         "x0": " ",
         "xaxis": "x",
         "y": [
          9.1,
          9.6,
          7.4,
          8.4,
          5.3,
          4.1,
          5.8,
          8,
          7.2,
          5.9,
          4.5,
          6.8,
          7.1,
          8.2,
          5.7,
          4.5,
          4.6,
          6.9,
          8.6,
          4.4,
          4.8,
          5.1,
          4.4,
          9.9,
          6,
          8.5,
          6.7,
          7.7,
          9.6,
          7.4,
          4.8,
          4.5,
          5.1,
          5.1,
          7.5,
          6.8,
          7,
          4.7,
          7.6,
          7.7,
          7.9,
          6.3,
          5.6,
          7.6,
          7.2,
          9.5,
          8.4,
          4.1,
          8.1,
          7.9,
          9.5,
          8.5,
          6.5,
          6.1,
          6.5,
          8.2,
          5.8,
          6.6,
          5.4,
          9.3,
          10,
          7,
          10,
          8.6,
          7.6,
          5.8,
          6.7,
          9.9,
          6.4,
          4.3,
          9.6,
          5.9,
          4,
          8.7,
          9.4,
          5.4,
          8.6,
          5.7,
          6.6,
          6,
          5.5,
          6.4,
          6.6,
          8.3,
          6.6,
          4,
          9.9,
          7.3,
          5.7,
          6.1,
          7.1,
          8.2,
          5.1,
          8.6,
          6.6,
          7.2,
          5.1,
          4.1,
          9.3,
          7.4,
          4.1,
          7.2,
          4.9,
          9.9,
          8,
          7.3,
          7.9,
          7.4,
          4.2,
          9.2,
          4.6,
          7.8,
          8.4,
          4.3,
          9.5,
          7.1,
          5.3,
          5.2,
          6,
          4.1,
          5.2,
          6.5,
          4.2,
          4.6,
          7.3,
          4.5,
          9,
          5.9,
          8.5,
          7.2,
          7.5,
          8.3,
          7.4,
          8.8,
          5.3,
          6.2,
          8.8,
          9.8,
          8.2,
          9.2,
          5.4,
          8.1,
          9.1,
          8.4,
          8,
          9.5,
          9.2,
          5.6,
          6.2,
          4.9,
          4.8,
          7.3,
          7.4,
          9.9,
          9.3,
          9,
          6.1,
          9.7,
          6,
          10,
          8.3,
          6,
          7,
          6.5,
          5.9,
          5.6,
          4.8,
          8.7,
          6.5,
          8.5,
          5.5,
          9.4,
          6.3,
          9.8,
          8.7,
          8.8,
          9.6,
          4.8,
          4.4,
          9.9,
          5.7,
          7.7,
          8,
          5.7,
          6.7,
          8,
          7.5,
          7,
          9.9,
          5.9,
          7.2,
          4.6,
          9.2,
          5.7,
          9.9,
          5,
          4.9,
          6.1,
          8.2,
          5.5,
          6.8,
          6.6,
          9.8,
          8.7,
          5.4,
          7.9,
          9.7,
          7.8,
          5.1,
          6.5,
          5.9,
          8.8,
          4.9,
          4.4,
          6.5,
          8.3,
          8.5,
          5.5,
          8.7,
          7.9,
          6.1,
          5.4,
          9.4,
          8.2,
          6.2,
          9.7,
          4,
          9.7,
          5.3,
          7.4,
          6.5,
          8.7,
          8,
          6.7,
          6.5,
          4.1,
          4.9,
          8.6,
          4.3,
          4.9,
          5.6,
          5.8,
          6,
          4.2,
          8.3,
          5.7,
          4.8,
          6.8,
          8.8,
          4.2,
          6.4,
          8.4,
          7.2,
          5.2,
          8.9,
          9,
          9.7,
          8.7,
          6.5,
          6.9,
          6.2,
          5.6,
          5.7,
          4.2,
          7.9,
          8.7,
          6.9,
          9.5,
          4.4,
          7,
          6.3,
          9.7,
          8.8,
          5.1,
          7.9,
          6.2,
          7.1,
          6.4,
          5.7,
          9.6,
          6.4,
          7.9,
          6.5,
          8.5,
          9.1,
          7.6,
          6.9,
          9.5,
          5.2,
          4.2,
          7,
          6,
          4.7,
          7.1,
          5.9,
          7.5,
          6.4,
          5.8,
          4.5,
          7.7,
          6.7,
          4.7,
          4.4,
          4.7,
          8.6,
          4.3,
          9.6,
          4.1,
          4.7,
          7.8,
          5.5,
          9.7,
          4.4,
          5,
          4.4,
          5.2,
          7.3,
          4.9,
          8.1,
          8.4,
          5.5,
          8.4,
          9.8,
          6.7,
          9.4,
          6.4,
          5.4,
          8.6,
          4,
          7.6,
          6.8,
          9.1,
          5.5,
          7.9,
          8.5,
          9.1,
          7.5,
          5.2,
          9.5,
          8.9,
          7.8,
          8.9,
          7.7,
          9.3,
          6.2,
          7.6,
          7.3,
          4.7,
          5.1,
          4.8,
          6.6,
          5.5,
          8.5,
          4.8,
          8.4,
          7.8,
          9.3,
          5.2,
          6.5,
          5.6,
          7.4,
          9.1,
          8,
          7.2,
          7.1,
          9.1,
          5.6,
          6,
          5.4,
          7.8,
          9.9,
          4.9,
          5.2,
          8.9,
          9.1,
          7,
          9.6,
          8.7,
          9.4,
          4,
          7.5,
          4.2,
          9.9,
          4.2,
          9.9,
          5.8,
          6,
          10,
          9.5,
          6.6,
          8.1,
          9.7,
          7.2,
          6.2,
          7.3,
          4.3,
          4.6,
          5.8,
          8.3,
          8,
          9.4,
          6.2,
          9.8,
          9.6,
          4.9,
          8,
          7.8,
          4.1,
          5.5,
          5.4,
          5.1,
          6.9,
          7.8,
          6.6,
          9.2,
          7.8,
          8.7,
          9.2,
          8.3,
          8.2,
          7.5,
          9.8,
          8.7,
          6.7,
          5,
          7,
          8.9,
          8,
          6.9,
          7.3,
          6.9,
          5.7,
          6.4,
          9.6,
          6.8,
          9,
          9.6,
          7.7,
          7,
          6.5,
          8.1,
          4.3,
          6.5,
          9.5,
          9.7,
          9.5,
          8.9,
          6.5,
          5.3,
          9.6,
          6.7,
          7.6,
          4.8,
          5.5,
          4.7,
          6.9,
          4.5,
          6.2,
          7.6,
          7.9,
          4.5,
          8.7,
          6.1,
          6.4,
          9.1,
          7.1,
          7.7,
          4.5,
          7.2,
          8.4,
          5.4,
          9.7,
          5.5,
          4.6,
          6.6,
          6.3,
          4.2,
          4.4,
          6.7,
          6.7,
          8.4,
          6.2,
          5,
          6,
          7,
          6.6,
          7.3,
          8.3,
          4.3,
          9.8,
          8.2,
          7.2,
          8.7,
          8.4,
          7.1,
          5.5,
          8.5,
          6.2,
          8.9,
          9.6,
          5.4,
          9.1,
          9,
          6.3,
          9.5,
          9.8,
          6.7,
          7.7,
          7,
          5.1,
          6.2,
          6.1,
          9.3,
          7.6,
          8.2,
          8.5,
          9.8,
          8.7,
          9.7,
          4.3,
          7.7,
          7.3,
          5.9,
          5,
          8,
          7.1,
          9,
          6.7,
          6.1,
          9.3,
          7,
          7.2,
          8.2,
          8.4,
          6.2,
          7.4,
          5,
          6.9,
          4.9,
          5.1,
          9.1,
          7.1,
          5,
          5.5,
          9.2,
          4.9,
          8.9,
          6,
          4.2,
          7.3,
          6.5,
          8.9,
          9.7,
          8.6,
          6.9,
          7.7,
          9.5,
          4.5,
          5.6,
          8.2,
          7.3,
          4.4,
          5.7,
          5,
          9,
          6.3,
          9.4,
          7.7,
          5.5,
          4.1,
          7.6,
          8.6,
          8.3,
          8.1,
          8.6,
          6.3,
          5.8,
          6.2,
          7.7,
          8.1,
          7.3,
          8.4,
          8,
          9.5,
          7,
          9.8,
          9.2,
          7.7,
          5.3,
          4.4,
          4.3,
          9.4,
          9.8,
          4.8,
          5.3,
          8.7,
          9.5,
          5.3,
          9.2,
          9.6,
          6.4,
          4.5,
          6.9,
          7.8,
          4.5,
          8.6,
          5.2,
          6.4,
          5.2,
          8.9,
          6.2,
          6.7,
          7.2,
          9,
          4.2,
          4.2,
          6.9,
          4.4,
          4,
          8.5,
          9.2,
          9.8,
          4.9,
          4.4,
          6.8,
          9.1,
          8.7,
          5,
          7.5,
          8.2,
          6.7,
          5.4,
          7,
          4.7,
          5,
          5,
          6,
          6.3,
          8.5,
          7.5,
          6.4,
          4.7,
          6,
          4,
          5.5,
          8.7,
          7.4,
          5.6,
          6.3,
          7.1,
          7.8,
          9.9,
          7.3,
          5.1,
          9.4,
          5.8,
          8,
          7.9,
          5.9,
          4.9,
          9.3,
          7.9,
          5.9,
          9.9,
          7.7,
          7.6,
          7.7,
          6.4,
          4.4,
          4.1,
          4.4,
          5.5,
          4,
          9.3,
          4.8,
          4.6,
          7.3,
          6,
          8.1,
          9.4,
          6.5,
          7,
          7.1,
          6.6,
          4.9,
          6.4,
          8,
          4.3,
          6.1,
          7.5,
          6.7,
          5.2,
          8.8,
          9.5,
          7.6,
          6.6,
          6.9,
          4.3,
          7.8,
          8,
          9.6,
          4.3,
          5,
          9.2,
          6.3,
          8.9,
          7.6,
          4.8,
          9.1,
          6.1,
          9.1,
          8.3,
          7.2,
          6,
          8.5,
          6.6,
          4.5,
          8.1,
          7.2,
          6.1,
          7.1,
          5.1,
          7.9,
          7.4,
          7.4,
          6.6,
          5.9,
          8.9,
          6.8,
          9.3,
          4.4,
          4.8,
          9.5,
          8.9,
          6.4,
          6,
          8.1,
          9,
          6,
          9.8,
          8.5,
          8.8,
          8.8,
          9.5,
          5.6,
          8.6,
          5.2,
          5.8,
          8,
          9,
          4.1,
          8.6,
          7,
          8.4,
          7.4,
          6.2,
          4.9,
          4.5,
          5.6,
          8,
          5.6,
          4.2,
          9.9,
          7.6,
          6.6,
          4.7,
          9.8,
          6.3,
          7.9,
          7.7,
          4.5,
          8,
          5.7,
          6.3,
          6,
          8,
          4.2,
          9.6,
          6.1,
          5.6,
          8.3,
          7.8,
          4.1,
          8.8,
          4.1,
          9,
          5.5,
          9.3,
          5.6,
          9.7,
          4,
          9.2,
          4.9,
          9.3,
          6.6,
          4.3,
          5.5,
          8.1,
          9.8,
          9.4,
          7.9,
          5.1,
          6.9,
          8,
          8,
          4.2,
          8.5,
          9,
          8.6,
          6,
          6.2,
          5,
          6.5,
          6,
          5,
          5,
          9.2,
          9.6,
          8.4,
          6,
          6.7,
          4.1,
          5.9,
          8.7,
          4.5,
          6.6,
          7.7,
          8.5,
          5.2,
          4.3,
          7.6,
          9.5,
          4.1,
          9.2,
          5.4,
          5.8,
          5.6,
          5.1,
          5.8,
          5,
          7.9,
          6,
          5,
          8.9,
          5.9,
          5.9,
          9.7,
          8.6,
          4,
          4.2,
          9.2,
          9.2,
          5,
          10,
          8.8,
          4.2,
          6.3,
          8.2,
          5.1,
          5,
          7,
          7.8,
          4.3,
          7,
          6.6,
          7.3,
          6.5,
          4.9,
          4.3,
          9.3,
          7.1,
          9.6,
          6.2,
          9.9,
          5.9,
          6.3,
          4,
          6.1,
          4.5,
          8.6,
          6,
          9.5,
          9.9,
          7.5,
          7.6,
          5,
          6.7,
          9.5,
          6.8,
          5.6,
          7.2,
          8.1,
          8.6,
          9.4,
          8.9,
          4.2,
          5,
          8.8,
          5.3,
          4.6,
          7.5,
          5.1,
          4.2,
          8.1,
          6,
          7.9,
          8.8,
          6.6,
          6.2,
          4.2,
          7.3,
          8.6,
          6.8,
          7.6,
          5.8,
          4.1,
          9.3,
          6.8,
          8.7,
          6.3,
          5.1,
          7,
          5.2,
          6.6,
          6.5,
          9,
          5.2,
          6.8,
          7.6,
          7.2,
          7.1,
          9.5,
          5.1,
          7.6,
          9.8,
          5.1,
          7.5,
          7.4,
          4.2,
          5.9,
          6.9,
          6.6,
          5.7,
          5.3,
          4.2,
          7.3,
          5.3,
          4.7,
          7.9,
          8.9,
          9.3,
          4.7,
          8.7,
          7.6,
          5.7,
          6.8,
          5.4,
          7.1,
          7.8,
          8.4,
          9.8,
          9.8,
          7.4,
          6.7,
          6.4,
          5.8,
          7.2,
          9.3,
          9.5,
          9,
          9,
          6.7,
          5.5,
          5.4,
          8.2,
          7,
          8.5,
          4.9,
          5.1,
          6.5,
          9.8,
          8.4,
          7.4,
          6.1,
          6,
          8.5,
          4.3,
          6.2,
          4.3,
          8.4,
          4.5,
          6,
          8.8,
          6.6,
          5.9,
          6.2,
          4.4,
          7.7,
          4.1,
          6.6
         ],
         "y0": " ",
         "yaxis": "y"
        }
       ],
       "layout": {
        "boxmode": "group",
        "legend": {
         "tracegroupgap": 0
        },
        "margin": {
         "t": 60
        },
        "template": {
         "data": {
          "bar": [
           {
            "error_x": {
             "color": "#2a3f5f"
            },
            "error_y": {
             "color": "#2a3f5f"
            },
            "marker": {
             "line": {
              "color": "#E5ECF6",
              "width": 0.5
             },
             "pattern": {
              "fillmode": "overlay",
              "size": 10,
              "solidity": 0.2
             }
            },
            "type": "bar"
           }
          ],
          "barpolar": [
           {
            "marker": {
             "line": {
              "color": "#E5ECF6",
              "width": 0.5
             },
             "pattern": {
              "fillmode": "overlay",
              "size": 10,
              "solidity": 0.2
             }
            },
            "type": "barpolar"
           }
          ],
          "carpet": [
           {
            "aaxis": {
             "endlinecolor": "#2a3f5f",
             "gridcolor": "white",
             "linecolor": "white",
             "minorgridcolor": "white",
             "startlinecolor": "#2a3f5f"
            },
            "baxis": {
             "endlinecolor": "#2a3f5f",
             "gridcolor": "white",
             "linecolor": "white",
             "minorgridcolor": "white",
             "startlinecolor": "#2a3f5f"
            },
            "type": "carpet"
           }
          ],
          "choropleth": [
           {
            "colorbar": {
             "outlinewidth": 0,
             "ticks": ""
            },
            "type": "choropleth"
           }
          ],
          "contour": [
           {
            "colorbar": {
             "outlinewidth": 0,
             "ticks": ""
            },
            "colorscale": [
             [
              0,
              "#0d0887"
             ],
             [
              0.1111111111111111,
              "#46039f"
             ],
             [
              0.2222222222222222,
              "#7201a8"
             ],
             [
              0.3333333333333333,
              "#9c179e"
             ],
             [
              0.4444444444444444,
              "#bd3786"
             ],
             [
              0.5555555555555556,
              "#d8576b"
             ],
             [
              0.6666666666666666,
              "#ed7953"
             ],
             [
              0.7777777777777778,
              "#fb9f3a"
             ],
             [
              0.8888888888888888,
              "#fdca26"
             ],
             [
              1,
              "#f0f921"
             ]
            ],
            "type": "contour"
           }
          ],
          "contourcarpet": [
           {
            "colorbar": {
             "outlinewidth": 0,
             "ticks": ""
            },
            "type": "contourcarpet"
           }
          ],
          "heatmap": [
           {
            "colorbar": {
             "outlinewidth": 0,
             "ticks": ""
            },
            "colorscale": [
             [
              0,
              "#0d0887"
             ],
             [
              0.1111111111111111,
              "#46039f"
             ],
             [
              0.2222222222222222,
              "#7201a8"
             ],
             [
              0.3333333333333333,
              "#9c179e"
             ],
             [
              0.4444444444444444,
              "#bd3786"
             ],
             [
              0.5555555555555556,
              "#d8576b"
             ],
             [
              0.6666666666666666,
              "#ed7953"
             ],
             [
              0.7777777777777778,
              "#fb9f3a"
             ],
             [
              0.8888888888888888,
              "#fdca26"
             ],
             [
              1,
              "#f0f921"
             ]
            ],
            "type": "heatmap"
           }
          ],
          "heatmapgl": [
           {
            "colorbar": {
             "outlinewidth": 0,
             "ticks": ""
            },
            "colorscale": [
             [
              0,
              "#0d0887"
             ],
             [
              0.1111111111111111,
              "#46039f"
             ],
             [
              0.2222222222222222,
              "#7201a8"
             ],
             [
              0.3333333333333333,
              "#9c179e"
             ],
             [
              0.4444444444444444,
              "#bd3786"
             ],
             [
              0.5555555555555556,
              "#d8576b"
             ],
             [
              0.6666666666666666,
              "#ed7953"
             ],
             [
              0.7777777777777778,
              "#fb9f3a"
             ],
             [
              0.8888888888888888,
              "#fdca26"
             ],
             [
              1,
              "#f0f921"
             ]
            ],
            "type": "heatmapgl"
           }
          ],
          "histogram": [
           {
            "marker": {
             "pattern": {
              "fillmode": "overlay",
              "size": 10,
              "solidity": 0.2
             }
            },
            "type": "histogram"
           }
          ],
          "histogram2d": [
           {
            "colorbar": {
             "outlinewidth": 0,
             "ticks": ""
            },
            "colorscale": [
             [
              0,
              "#0d0887"
             ],
             [
              0.1111111111111111,
              "#46039f"
             ],
             [
              0.2222222222222222,
              "#7201a8"
             ],
             [
              0.3333333333333333,
              "#9c179e"
             ],
             [
              0.4444444444444444,
              "#bd3786"
             ],
             [
              0.5555555555555556,
              "#d8576b"
             ],
             [
              0.6666666666666666,
              "#ed7953"
             ],
             [
              0.7777777777777778,
              "#fb9f3a"
             ],
             [
              0.8888888888888888,
              "#fdca26"
             ],
             [
              1,
              "#f0f921"
             ]
            ],
            "type": "histogram2d"
           }
          ],
          "histogram2dcontour": [
           {
            "colorbar": {
             "outlinewidth": 0,
             "ticks": ""
            },
            "colorscale": [
             [
              0,
              "#0d0887"
             ],
             [
              0.1111111111111111,
              "#46039f"
             ],
             [
              0.2222222222222222,
              "#7201a8"
             ],
             [
              0.3333333333333333,
              "#9c179e"
             ],
             [
              0.4444444444444444,
              "#bd3786"
             ],
             [
              0.5555555555555556,
              "#d8576b"
             ],
             [
              0.6666666666666666,
              "#ed7953"
             ],
             [
              0.7777777777777778,
              "#fb9f3a"
             ],
             [
              0.8888888888888888,
              "#fdca26"
             ],
             [
              1,
              "#f0f921"
             ]
            ],
            "type": "histogram2dcontour"
           }
          ],
          "mesh3d": [
           {
            "colorbar": {
             "outlinewidth": 0,
             "ticks": ""
            },
            "type": "mesh3d"
           }
          ],
          "parcoords": [
           {
            "line": {
             "colorbar": {
              "outlinewidth": 0,
              "ticks": ""
             }
            },
            "type": "parcoords"
           }
          ],
          "pie": [
           {
            "automargin": true,
            "type": "pie"
           }
          ],
          "scatter": [
           {
            "marker": {
             "colorbar": {
              "outlinewidth": 0,
              "ticks": ""
             }
            },
            "type": "scatter"
           }
          ],
          "scatter3d": [
           {
            "line": {
             "colorbar": {
              "outlinewidth": 0,
              "ticks": ""
             }
            },
            "marker": {
             "colorbar": {
              "outlinewidth": 0,
              "ticks": ""
             }
            },
            "type": "scatter3d"
           }
          ],
          "scattercarpet": [
           {
            "marker": {
             "colorbar": {
              "outlinewidth": 0,
              "ticks": ""
             }
            },
            "type": "scattercarpet"
           }
          ],
          "scattergeo": [
           {
            "marker": {
             "colorbar": {
              "outlinewidth": 0,
              "ticks": ""
             }
            },
            "type": "scattergeo"
           }
          ],
          "scattergl": [
           {
            "marker": {
             "colorbar": {
              "outlinewidth": 0,
              "ticks": ""
             }
            },
            "type": "scattergl"
           }
          ],
          "scattermapbox": [
           {
            "marker": {
             "colorbar": {
              "outlinewidth": 0,
              "ticks": ""
             }
            },
            "type": "scattermapbox"
           }
          ],
          "scatterpolar": [
           {
            "marker": {
             "colorbar": {
              "outlinewidth": 0,
              "ticks": ""
             }
            },
            "type": "scatterpolar"
           }
          ],
          "scatterpolargl": [
           {
            "marker": {
             "colorbar": {
              "outlinewidth": 0,
              "ticks": ""
             }
            },
            "type": "scatterpolargl"
           }
          ],
          "scatterternary": [
           {
            "marker": {
             "colorbar": {
              "outlinewidth": 0,
              "ticks": ""
             }
            },
            "type": "scatterternary"
           }
          ],
          "surface": [
           {
            "colorbar": {
             "outlinewidth": 0,
             "ticks": ""
            },
            "colorscale": [
             [
              0,
              "#0d0887"
             ],
             [
              0.1111111111111111,
              "#46039f"
             ],
             [
              0.2222222222222222,
              "#7201a8"
             ],
             [
              0.3333333333333333,
              "#9c179e"
             ],
             [
              0.4444444444444444,
              "#bd3786"
             ],
             [
              0.5555555555555556,
              "#d8576b"
             ],
             [
              0.6666666666666666,
              "#ed7953"
             ],
             [
              0.7777777777777778,
              "#fb9f3a"
             ],
             [
              0.8888888888888888,
              "#fdca26"
             ],
             [
              1,
              "#f0f921"
             ]
            ],
            "type": "surface"
           }
          ],
          "table": [
           {
            "cells": {
             "fill": {
              "color": "#EBF0F8"
             },
             "line": {
              "color": "white"
             }
            },
            "header": {
             "fill": {
              "color": "#C8D4E3"
             },
             "line": {
              "color": "white"
             }
            },
            "type": "table"
           }
          ]
         },
         "layout": {
          "annotationdefaults": {
           "arrowcolor": "#2a3f5f",
           "arrowhead": 0,
           "arrowwidth": 1
          },
          "autotypenumbers": "strict",
          "coloraxis": {
           "colorbar": {
            "outlinewidth": 0,
            "ticks": ""
           }
          },
          "colorscale": {
           "diverging": [
            [
             0,
             "#8e0152"
            ],
            [
             0.1,
             "#c51b7d"
            ],
            [
             0.2,
             "#de77ae"
            ],
            [
             0.3,
             "#f1b6da"
            ],
            [
             0.4,
             "#fde0ef"
            ],
            [
             0.5,
             "#f7f7f7"
            ],
            [
             0.6,
             "#e6f5d0"
            ],
            [
             0.7,
             "#b8e186"
            ],
            [
             0.8,
             "#7fbc41"
            ],
            [
             0.9,
             "#4d9221"
            ],
            [
             1,
             "#276419"
            ]
           ],
           "sequential": [
            [
             0,
             "#0d0887"
            ],
            [
             0.1111111111111111,
             "#46039f"
            ],
            [
             0.2222222222222222,
             "#7201a8"
            ],
            [
             0.3333333333333333,
             "#9c179e"
            ],
            [
             0.4444444444444444,
             "#bd3786"
            ],
            [
             0.5555555555555556,
             "#d8576b"
            ],
            [
             0.6666666666666666,
             "#ed7953"
            ],
            [
             0.7777777777777778,
             "#fb9f3a"
            ],
            [
             0.8888888888888888,
             "#fdca26"
            ],
            [
             1,
             "#f0f921"
            ]
           ],
           "sequentialminus": [
            [
             0,
             "#0d0887"
            ],
            [
             0.1111111111111111,
             "#46039f"
            ],
            [
             0.2222222222222222,
             "#7201a8"
            ],
            [
             0.3333333333333333,
             "#9c179e"
            ],
            [
             0.4444444444444444,
             "#bd3786"
            ],
            [
             0.5555555555555556,
             "#d8576b"
            ],
            [
             0.6666666666666666,
             "#ed7953"
            ],
            [
             0.7777777777777778,
             "#fb9f3a"
            ],
            [
             0.8888888888888888,
             "#fdca26"
            ],
            [
             1,
             "#f0f921"
            ]
           ]
          },
          "colorway": [
           "#636efa",
           "#EF553B",
           "#00cc96",
           "#ab63fa",
           "#FFA15A",
           "#19d3f3",
           "#FF6692",
           "#B6E880",
           "#FF97FF",
           "#FECB52"
          ],
          "font": {
           "color": "#2a3f5f"
          },
          "geo": {
           "bgcolor": "white",
           "lakecolor": "white",
           "landcolor": "#E5ECF6",
           "showlakes": true,
           "showland": true,
           "subunitcolor": "white"
          },
          "hoverlabel": {
           "align": "left"
          },
          "hovermode": "closest",
          "mapbox": {
           "style": "light"
          },
          "paper_bgcolor": "white",
          "plot_bgcolor": "#E5ECF6",
          "polar": {
           "angularaxis": {
            "gridcolor": "white",
            "linecolor": "white",
            "ticks": ""
           },
           "bgcolor": "#E5ECF6",
           "radialaxis": {
            "gridcolor": "white",
            "linecolor": "white",
            "ticks": ""
           }
          },
          "scene": {
           "xaxis": {
            "backgroundcolor": "#E5ECF6",
            "gridcolor": "white",
            "gridwidth": 2,
            "linecolor": "white",
            "showbackground": true,
            "ticks": "",
            "zerolinecolor": "white"
           },
           "yaxis": {
            "backgroundcolor": "#E5ECF6",
            "gridcolor": "white",
            "gridwidth": 2,
            "linecolor": "white",
            "showbackground": true,
            "ticks": "",
            "zerolinecolor": "white"
           },
           "zaxis": {
            "backgroundcolor": "#E5ECF6",
            "gridcolor": "white",
            "gridwidth": 2,
            "linecolor": "white",
            "showbackground": true,
            "ticks": "",
            "zerolinecolor": "white"
           }
          },
          "shapedefaults": {
           "line": {
            "color": "#2a3f5f"
           }
          },
          "ternary": {
           "aaxis": {
            "gridcolor": "white",
            "linecolor": "white",
            "ticks": ""
           },
           "baxis": {
            "gridcolor": "white",
            "linecolor": "white",
            "ticks": ""
           },
           "bgcolor": "#E5ECF6",
           "caxis": {
            "gridcolor": "white",
            "linecolor": "white",
            "ticks": ""
           }
          },
          "title": {
           "x": 0.05
          },
          "xaxis": {
           "automargin": true,
           "gridcolor": "white",
           "linecolor": "white",
           "ticks": "",
           "title": {
            "standoff": 15
           },
           "zerolinecolor": "white",
           "zerolinewidth": 2
          },
          "yaxis": {
           "automargin": true,
           "gridcolor": "white",
           "linecolor": "white",
           "ticks": "",
           "title": {
            "standoff": 15
           },
           "zerolinecolor": "white",
           "zerolinewidth": 2
          }
         }
        },
        "xaxis": {
         "anchor": "y",
         "domain": [
          0,
          1
         ],
         "title": {
          "text": "City"
         }
        },
        "yaxis": {
         "anchor": "x",
         "domain": [
          0,
          1
         ],
         "title": {
          "text": "Rating"
         }
        }
       }
      }
     },
     "metadata": {},
     "output_type": "display_data"
    }
   ],
   "source": [
    "fig_box = px.box(df, x=\"City\", y=\"Rating\")\n",
    "fig_box.show()"
   ]
  },
  {
   "cell_type": "markdown",
   "metadata": {},
   "source": [
    "# vii. Pengambilan Kesimpulan\n",
    "\n",
    "Atas pengujian hipotesis yang menghasilkan P-value 0.116 yang lebih besar dari critical value 0.05, maka kesimpulan uji hipotesis adalah gagal menolak H0.\n",
    "\n",
    "Kesimpulan tersebut dapat diartikan secara statistik, mean dari rating supermarket di kota Yangon, Mandalay, dan Naypyitaw tidak berbeda signifikan antara ketiganya."
   ]
  }
 ],
 "metadata": {
  "interpreter": {
   "hash": "d870a9591ce0ab93af2174842b30eb83553d2c28a9a84a4cf10c4248717e9f1e"
  },
  "kernelspec": {
   "display_name": "Python 3.9.7 ('base')",
   "language": "python",
   "name": "python3"
  },
  "language_info": {
   "codemirror_mode": {
    "name": "ipython",
    "version": 3
   },
   "file_extension": ".py",
   "mimetype": "text/x-python",
   "name": "python",
   "nbconvert_exporter": "python",
   "pygments_lexer": "ipython3",
   "version": "3.9.7"
  },
  "orig_nbformat": 4
 },
 "nbformat": 4,
 "nbformat_minor": 2
}
